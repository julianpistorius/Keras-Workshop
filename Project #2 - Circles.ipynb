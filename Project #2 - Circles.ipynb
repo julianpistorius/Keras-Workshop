{
 "cells": [
  {
   "cell_type": "markdown",
   "metadata": {},
   "source": [
    "# More toy datasets!\n",
    " - Build a classifier that classifies data generated from sklearn's ```make_circles``` function.\n",
    " - Feel free to use any of the code from the previous project, some stuff is already added to save time."
   ]
  },
  {
   "cell_type": "code",
   "execution_count": null,
   "metadata": {
    "collapsed": true
   },
   "outputs": [],
   "source": [
    "import sklearn\n",
    "from sklearn import datasets\n",
    "import matplotlib.pyplot as plt\n",
    "import numpy as np"
   ]
  },
  {
   "cell_type": "code",
   "execution_count": null,
   "metadata": {
    "collapsed": false
   },
   "outputs": [],
   "source": [
    "from keras.models import Sequential\n",
    "from keras.layers import Dense, Activation\n",
    "from keras import optimizers\n",
    "from keras import regularizers\n",
    "\n",
    "np.set_printoptions(threshold=np.nan)"
   ]
  },
  {
   "cell_type": "code",
   "execution_count": null,
   "metadata": {
    "collapsed": false
   },
   "outputs": [],
   "source": [
    "# These are some nicer settings to get things started.\n",
    "# Increasing the noise increases how spread out the samples will be.\n",
    "# Decreasing 'factor' increases the amount of separation between the radii of the circles.\n",
    "num_samples = 500\n",
    "X, y = sklearn.datasets.make_circles(n_samples=num_samples, noise=0.2, factor=0.3)"
   ]
  },
  {
   "cell_type": "code",
   "execution_count": null,
   "metadata": {
    "collapsed": true
   },
   "outputs": [],
   "source": [
    "# Don't need to change anything here.\n",
    "labels = np.zeros(X.shape)\n",
    "\n",
    "for i in range(num_samples):\n",
    "    labels[i, 0] = y[i]\n",
    "    labels[i, 1] = 1. - y[i]"
   ]
  },
  {
   "cell_type": "code",
   "execution_count": null,
   "metadata": {
    "collapsed": false
   },
   "outputs": [],
   "source": [
    "# Don't need to change anything here.\n",
    "# The c parameter lets you assign class colors; assumes that \n",
    "# a row in X has the label referenced by the same row number\n",
    "# of y.\n",
    "scolors = ['red' if l > 0 else 'green' for l in y]\n",
    "plt.scatter(X[:,0], X[:,1], c=y)\n",
    "plt.show()"
   ]
  },
  {
   "cell_type": "code",
   "execution_count": null,
   "metadata": {
    "collapsed": true
   },
   "outputs": [],
   "source": [
    "# Don't need to change anything here\n",
    "def plot_decision_boundary(model, xmin=-2, xmax=3, ymin=-2, ymax=2):\n",
    "    '''\n",
    "    Given a Keras model trained on 2-class 2D data, this method plots the\n",
    "    decision boundary and the regions belonging to either class.\n",
    "    '''\n",
    "    xl = np.linspace(xmin, xmax, 200)\n",
    "    yl = np.linspace(ymin, ymax, 200)\n",
    "    xv, yv = np.meshgrid(xl, yl)\n",
    "    mesh_pred = np.zeros((200, 200))\n",
    "    for i in range(200):\n",
    "        for j in range(200):\n",
    "            loc = np.zeros((1,2))\n",
    "            loc[0,0] = xv[i, j]\n",
    "            loc[0,1] = yv[i, j]\n",
    "            #print(loc)\n",
    "            #print(loc.shape)\n",
    "            pred = model.predict(loc, batch_size=1)\n",
    "\n",
    "            mesh_pred[i, j] = 1. if pred[0,0] > pred[0,1] else 0.\n",
    "            \n",
    "    plt.pcolor(xv, yv, mesh_pred)\n",
    "    scolors = ['black' if l > 0 else 'white' for l in y]\n",
    "    plt.scatter(X[:,0], X[:,1], c=scolors, s=10.)\n",
    "    plt.draw()\n",
    "    plt.show(block=False)"
   ]
  },
  {
   "cell_type": "markdown",
   "metadata": {},
   "source": [
    "## Build your model!"
   ]
  },
  {
   "cell_type": "code",
   "execution_count": null,
   "metadata": {
    "collapsed": true
   },
   "outputs": [],
   "source": []
  }
 ],
 "metadata": {
  "kernelspec": {
   "display_name": "Python 3",
   "language": "python",
   "name": "python3"
  },
  "language_info": {
   "codemirror_mode": {
    "name": "ipython",
    "version": 3
   },
   "file_extension": ".py",
   "mimetype": "text/x-python",
   "name": "python",
   "nbconvert_exporter": "python",
   "pygments_lexer": "ipython3",
   "version": "3.5.2"
  }
 },
 "nbformat": 4,
 "nbformat_minor": 2
}
